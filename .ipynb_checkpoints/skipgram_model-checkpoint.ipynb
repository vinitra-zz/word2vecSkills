{
 "cells": [
  {
   "cell_type": "code",
   "execution_count": 1,
   "metadata": {
    "collapsed": false
   },
   "outputs": [
    {
     "name": "stderr",
     "output_type": "stream",
     "text": [
      "C:\\Users\\Vinitra\\Anaconda3\\lib\\site-packages\\gensim\\utils.py:862: UserWarning: detected Windows; aliasing chunkize to chunkize_serial\n",
      "  warnings.warn(\"detected Windows; aliasing chunkize to chunkize_serial\")\n",
      "Using TensorFlow backend.\n"
     ]
    }
   ],
   "source": [
    "from gensim.models import Word2Vec\n",
    "from gensim.models.word2vec import LineSentence\n",
    "import numpy as np\n",
    "from sklearn.manifold import TSNE\n",
    "from datascience import *\n",
    "import pandas as pd"
   ]
  },
  {
   "cell_type": "code",
   "execution_count": 14,
   "metadata": {
    "collapsed": false
   },
   "outputs": [
    {
     "name": "stderr",
     "output_type": "stream",
     "text": [
      "C:\\Users\\Vinitra\\Anaconda3\\lib\\site-packages\\IPython\\core\\interactiveshell.py:2717: DtypeWarning: Columns (17,29) have mixed types. Specify dtype option on import or set low_memory=False.\n",
      "  interactivity=interactivity, compiler=compiler, result=result)\n"
     ]
    }
   ],
   "source": [
    "# Number 1\n",
    "sentences = LineSentence('assistment_id.tsv')\n",
    "assistment_model = Word2Vec(sentences, size=100, window=5, min_count=10, workers=10, iter=30)\n",
    "\n",
    "word_vectors = assistment_model.wv\n",
    "assistment_keys = word_vectors.vocab.keys()\n",
    "\n",
    "skills_assignments = pd.read_csv(\"skill_builder_data_corrected.csv\")\n",
    "skills_assignments = skills_assignments[['assistment_id', 'skill_name']].to_dict()['assistment_id']\n",
    "\n",
    "skill_id_dict = {v: k for k, v in skills_assignments.items()}"
   ]
  },
  {
   "cell_type": "code",
   "execution_count": 16,
   "metadata": {
    "collapsed": false
   },
   "outputs": [
    {
     "name": "stdout",
     "output_type": "stream",
     "text": [
      "[[ -8.85059690e-02   1.19520303e+00   4.08550000e+04]\n",
      " [  5.77278363e-01   6.64468757e-01   4.09150000e+04]\n",
      " [ -5.64608444e+00  -1.24995240e+01   1.65002000e+05]\n",
      " ..., \n",
      " [  1.24374351e+01   1.14931468e+01   2.47718000e+05]\n",
      " [ -1.46425565e+01   8.47147721e+00   3.82901000e+05]\n",
      " [  6.94272129e+00   2.80307594e+00   3.88895000e+05]]\n"
     ]
    }
   ],
   "source": [
    "skills = []\n",
    "embeddings = []\n",
    "for key in assistment_keys:\n",
    "    embeddings.append(word_vectors[key])\n",
    "    skills.append(skill_id_dict[int(key)])\n",
    "\n",
    "# raw_vectors = np.genfromtxt('skill.tsv', delimiter=\"\\t\")[1:]\n",
    "X_embedded = TSNE(n_components=2).fit_transform(embeddings)\n",
    "X = np.hstack((X_embedded, np.array(skills).reshape(-1, 1)))\n",
    "# with open('d3-scatterplot/embeddings.tsv','w') as f:\n",
    "np.savetxt('d3-scatterplot/assistments.tsv', X, header='x\\ty\\tskill', delimiter='\\t', fmt=\"%s\")\n"
   ]
  }
 ],
 "metadata": {
  "kernelspec": {
   "display_name": "Python 3",
   "language": "python",
   "name": "python3"
  },
  "language_info": {
   "codemirror_mode": {
    "name": "ipython",
    "version": 3
   },
   "file_extension": ".py",
   "mimetype": "text/x-python",
   "name": "python",
   "nbconvert_exporter": "python",
   "pygments_lexer": "ipython3",
   "version": "3.6.0"
  }
 },
 "nbformat": 4,
 "nbformat_minor": 2
}
