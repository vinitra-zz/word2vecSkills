{
 "cells": [
  {
   "cell_type": "code",
   "execution_count": 1,
   "metadata": {},
   "outputs": [
    {
     "name": "stderr",
     "output_type": "stream",
     "text": [
      "Using TensorFlow backend.\n"
     ]
    }
   ],
   "source": [
    "from gensim.models import Word2Vec\n",
    "from gensim.models.word2vec import LineSentence\n",
    "import numpy as np\n",
    "from sklearn.manifold import TSNE\n",
    "from datascience import *\n",
    "import pandas as pd"
   ]
  },
  {
   "cell_type": "code",
   "execution_count": 3,
   "metadata": {},
   "outputs": [
    {
     "name": "stderr",
     "output_type": "stream",
     "text": [
      "/Library/Frameworks/Python.framework/Versions/3.4/lib/python3.4/site-packages/IPython/core/interactiveshell.py:2728: DtypeWarning: Columns (17,29) have mixed types. Specify dtype option on import or set low_memory=False.\n",
      "  interactivity=interactivity, compiler=compiler, result=result)\n"
     ]
    }
   ],
   "source": [
    "# Number 1\n",
    "sentences = LineSentence('assistment_id.tsv')\n",
    "assistment_model = Word2Vec(sentences, size=100, window=1, min_count=10, workers=10, iter=30)\n",
    "\n",
    "# Number 2\n",
    "word_vectors = assistment_model.wv\n",
    "assistment_keys = word_vectors.vocab.keys()\n",
    "\n",
    "skills_assignments = pd.read_csv(\"skill_builder_data_corrected.csv\")\n",
    "skills_assignments = skills_assignments[['assistment_id', 'skill_name']].to_dict()['assistment_id']\n",
    "\n",
    "skill_id_dict = {v: k for k, v in skills_assignments.items()}"
   ]
  },
  {
   "cell_type": "code",
   "execution_count": 4,
   "metadata": {},
   "outputs": [],
   "source": [
    "skills = []\n",
    "embeddings = []\n",
    "for key in assistment_keys:\n",
    "    embeddings.append(word_vectors[key])\n",
    "    skills.append(skill_id_dict[int(key)])\n",
    "\n",
    "# raw_vectors = np.genfromtxt('skill.tsv', delimiter=\"\\t\")[1:]\n",
    "X_embedded = TSNE(n_components=2).fit_transform(embeddings)\n",
    "X = np.hstack((X_embedded, np.array(skills).reshape(-1, 1)))\n",
    "# with open('d3-scatterplot/embeddings.tsv','w') as f:\n",
    "np.savetxt('d3-scatterplot/assistments.tsv', X, header='x\\ty\\tskill', delimiter='\\t', fmt=\"%s\")\n"
   ]
  },
  {
   "cell_type": "code",
   "execution_count": null,
   "metadata": {},
   "outputs": [],
   "source": []
  }
 ],
 "metadata": {
  "kernelspec": {
   "display_name": "Python 3",
   "language": "python",
   "name": "python3"
  },
  "language_info": {
   "codemirror_mode": {
    "name": "ipython",
    "version": 3
   },
   "file_extension": ".py",
   "mimetype": "text/x-python",
   "name": "python",
   "nbconvert_exporter": "python",
   "pygments_lexer": "ipython3",
   "version": "3.4.3"
  }
 },
 "nbformat": 4,
 "nbformat_minor": 2
}
